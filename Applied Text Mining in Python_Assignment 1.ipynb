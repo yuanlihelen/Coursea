{
 "cells": [
  {
   "cell_type": "markdown",
   "metadata": {},
   "source": [
    "---\n",
    "\n",
    "_You are currently looking at **version 1.1** of this notebook. To download notebooks and datafiles, as well as get help on Jupyter notebooks in the Coursera platform, visit the [Jupyter Notebook FAQ](https://www.coursera.org/learn/python-text-mining/resources/d9pwm) course resource._\n",
    "\n",
    "---"
   ]
  },
  {
   "cell_type": "markdown",
   "metadata": {},
   "source": [
    "# Assignment 1\n",
    "\n",
    "In this assignment, you'll be working with messy medical data and using regex to extract relevant infromation from the data. \n",
    "\n",
    "Each line of the `dates.txt` file corresponds to a medical note. Each note has a date that needs to be extracted, but each date is encoded in one of many formats.\n",
    "\n",
    "The goal of this assignment is to correctly identify all of the different date variants encoded in this dataset and to properly normalize and sort the dates. \n",
    "\n",
    "Here is a list of some of the variants you might encounter in this dataset:\n",
    "* 04/20/2009; 04/20/09; 4/20/09; 4/3/09\n",
    "* Mar-20-2009; Mar 20, 2009; March 20, 2009;  Mar. 20, 2009; Mar 20 2009;\n",
    "* 20 Mar 2009; 20 March 2009; 20 Mar. 2009; 20 March, 2009\n",
    "* Mar 20th, 2009; Mar 21st, 2009; Mar 22nd, 2009\n",
    "* Feb 2009; Sep 2009; Oct 2010\n",
    "* 6/2008; 12/2009\n",
    "* 2009; 2010\n",
    "\n",
    "Once you have extracted these date patterns from the text, the next step is to sort them in ascending chronological order accoring to the following rules:\n",
    "* Assume all dates in xx/xx/xx format are mm/dd/yy\n",
    "* Assume all dates where year is encoded in only two digits are years from the 1900's (e.g. 1/5/89 is January 5th, 1989)\n",
    "* If the day is missing (e.g. 9/2009), assume it is the first day of the month (e.g. September 1, 2009).\n",
    "* If the month is missing (e.g. 2010), assume it is the first of January of that year (e.g. January 1, 2010).\n",
    "* Watch out for potential typos as this is a raw, real-life derived dataset.\n",
    "\n",
    "With these rules in mind, find the correct date in each note and return a pandas Series in chronological order of the original Series' indices.\n",
    "\n",
    "For example if the original series was this:\n",
    "\n",
    "    0    1999\n",
    "    1    2010\n",
    "    2    1978\n",
    "    3    2015\n",
    "    4    1985\n",
    "\n",
    "Your function should return this:\n",
    "\n",
    "    0    2\n",
    "    1    4\n",
    "    2    0\n",
    "    3    1\n",
    "    4    3\n",
    "\n",
    "Your score will be calculated using [Kendall's tau](https://en.wikipedia.org/wiki/Kendall_rank_correlation_coefficient), a correlation measure for ordinal data.\n",
    "\n",
    "*This function should return a Series of length 500 and dtype int.*"
   ]
  },
  {
   "cell_type": "code",
   "execution_count": 11,
   "metadata": {},
   "outputs": [
    {
     "data": {
      "text/plain": [
       "'5/24/1990 CPT Code: 90792: With medical services\\n'"
      ]
     },
     "execution_count": 11,
     "metadata": {},
     "output_type": "execute_result"
    }
   ],
   "source": [
    "import pandas as pd\n",
    "\n",
    "doc = []\n",
    "with open('dates.txt') as file:\n",
    "    for line in file:\n",
    "        doc.append(line)\n",
    "\n",
    "df = pd.Series(doc)\n",
    "df[14]"
   ]
  },
  {
   "cell_type": "code",
   "execution_count": 84,
   "metadata": {
    "scrolled": true
   },
   "outputs": [
    {
     "name": "stderr",
     "output_type": "stream",
     "text": [
      "/opt/conda/lib/python3.6/site-packages/ipykernel_launcher.py:11: FutureWarning: currently extract(expand=None) means expand=False (return Index/Series/DataFrame) but in a future version of pandas this will be changed to expand=True (return DataFrame)\n",
      "  # This is added back by InteractiveShellApp.init_path()\n"
     ]
    },
    {
     "data": {
      "text/plain": [
       "0        9\n",
       "1       84\n",
       "2        2\n",
       "3       53\n",
       "4       28\n",
       "5      474\n",
       "6      153\n",
       "7       13\n",
       "8      129\n",
       "9       98\n",
       "10     111\n",
       "11     225\n",
       "12      31\n",
       "13     171\n",
       "14     191\n",
       "15     486\n",
       "16     335\n",
       "17     415\n",
       "18      36\n",
       "19     405\n",
       "20     323\n",
       "21     422\n",
       "22     375\n",
       "23     380\n",
       "24     345\n",
       "25      57\n",
       "26     481\n",
       "27     436\n",
       "28     104\n",
       "29     299\n",
       "      ... \n",
       "470    220\n",
       "471    208\n",
       "472    243\n",
       "473    139\n",
       "474    320\n",
       "475    383\n",
       "476    244\n",
       "477    286\n",
       "478    480\n",
       "479    431\n",
       "480    279\n",
       "481    198\n",
       "482    381\n",
       "483    463\n",
       "484    366\n",
       "485    439\n",
       "486    255\n",
       "487    401\n",
       "488    475\n",
       "489    257\n",
       "490    152\n",
       "491    235\n",
       "492    464\n",
       "493    253\n",
       "494    427\n",
       "495    231\n",
       "496    141\n",
       "497    186\n",
       "498    161\n",
       "499    413\n",
       "Length: 500, dtype: int64"
      ]
     },
     "execution_count": 84,
     "metadata": {},
     "output_type": "execute_result"
    }
   ],
   "source": [
    "def date_sorter():\n",
    "    \n",
    "    regex1 = '(\\d{1,2}[/-]\\d{1,2}[/-]\\d{2,4})'  #04/20/2009; 04/20/09; 4/20/09; 4/3/09\n",
    "    regex2 = '((?:Jan|Feb|Mar|Apr|May|Jun|Jul|Aug|Sep|Oct|Nov|Dec)[\\S]*[+\\s]\\d{1,2}[,]{0,1}[+\\s]\\d{4})' #Mar-20-2009; Mar 20, 2009; March 20, 2009; Mar. 20, 2009; Mar 20 2009;\n",
    "    regex3 = '(\\d{1,2}[+\\s](?:Jan|Feb|Mar|Apr|May|Jun|Jul|Aug|Sep|Oct|Nov|Dec)[\\S]*[+\\s]\\d{4})' #20 Mar 2009; 20 March 2009; 20 Mar. 2009; 20 March, 2009\n",
    "    regex4 = '((?:Jan|Feb|Mar|Apr|May|Jun|Jul|Aug|Sep|Oct|Nov|Dec)[\\S]*[+\\s]\\d{4})' #Feb 2009; Sep 2009; Oct 2010;  \n",
    "    regex5 = '(\\d{1,2}[/-][1|2]\\d{3})'  #6/2008; 12/2009\n",
    "    regex6 = '([1|2]\\d{3})'        #2009; 2010\n",
    "    regex_7 = '((?:Jan|Feb|Mar|Apr|May|Jun|Jul|Aug|Sep|Oct|Nov|Dec)[+\\s]*[\\S]*[+\\s]\\d{4})' #Mar 20th, 2009; Mar 21st, 2009; Mar 22nd, 2009\n",
    "    full_regex = '(%s|%s|%s|%s|%s|%s|%s)' %(regex_1, regex_2, regex_3, regex_4, regex_5, regex_6, regex_7)\n",
    "    parsed_date = df.str.extract(full_regex)\n",
    "#     print(parsed_date)\n",
    "    parsed_date = parsed_date.iloc[:,0].str.replace('Janaury', 'January').str.replace('Decemeber', 'December')\n",
    "    parsed_date = pd.Series(pd.to_datetime(parsed_date))\n",
    "    parsed_date = parsed_date.sort_values(ascending=True).index\n",
    "    return pd.Series(parsed_date.values)\n",
    "date_sorter()"
   ]
  },
  {
   "cell_type": "code",
   "execution_count": 79,
   "metadata": {
    "scrolled": true
   },
   "outputs": [
    {
     "name": "stdout",
     "output_type": "stream",
     "text": [
      "                      0           1               2               3         4  \\\n",
      "  match                                                                         \n",
      "0 0          04/20/2009  04/20/2009             NaN             NaN       NaN   \n",
      "  1            04/20/09    04/20/09             NaN             NaN       NaN   \n",
      "  2             4/20/09     4/20/09             NaN             NaN       NaN   \n",
      "  3              4/3/09      4/3/09             NaN             NaN       NaN   \n",
      "  4             20-2009         NaN             NaN             NaN       NaN   \n",
      "  5        Mar 20, 2009         NaN    Mar 20, 2009             NaN       NaN   \n",
      "  6      March 20, 2009         NaN  March 20, 2009             NaN       NaN   \n",
      "  7       Mar. 20, 2009         NaN   Mar. 20, 2009             NaN       NaN   \n",
      "  8         Mar 20 2009         NaN     Mar 20 2009             NaN       NaN   \n",
      "  9         20 Mar 2009         NaN             NaN     20 Mar 2009       NaN   \n",
      "  10      20 March 2009         NaN             NaN   20 March 2009       NaN   \n",
      "  11       20 Mar. 2009         NaN             NaN    20 Mar. 2009       NaN   \n",
      "  12     20 March, 2009         NaN             NaN  20 March, 2009       NaN   \n",
      "  13     Mar 20th, 2009         NaN             NaN             NaN       NaN   \n",
      "  14     Mar 21st, 2009         NaN             NaN             NaN       NaN   \n",
      "  15     Mar 22nd, 2009         NaN             NaN             NaN       NaN   \n",
      "  16           Feb 2009         NaN             NaN             NaN  Feb 2009   \n",
      "  17           Sep 2009         NaN             NaN             NaN  Sep 2009   \n",
      "  18           Oct 2010         NaN             NaN             NaN  Oct 2010   \n",
      "  19             6/2008         NaN             NaN             NaN       NaN   \n",
      "  20            12/2009         NaN             NaN             NaN       NaN   \n",
      "  21               2009         NaN             NaN             NaN       NaN   \n",
      "  22               2010         NaN             NaN             NaN       NaN   \n",
      "\n",
      "               5     6               7  \n",
      "  match                                 \n",
      "0 0          NaN   NaN             NaN  \n",
      "  1          NaN   NaN             NaN  \n",
      "  2          NaN   NaN             NaN  \n",
      "  3          NaN   NaN             NaN  \n",
      "  4      20-2009   NaN             NaN  \n",
      "  5          NaN   NaN             NaN  \n",
      "  6          NaN   NaN             NaN  \n",
      "  7          NaN   NaN             NaN  \n",
      "  8          NaN   NaN             NaN  \n",
      "  9          NaN   NaN             NaN  \n",
      "  10         NaN   NaN             NaN  \n",
      "  11         NaN   NaN             NaN  \n",
      "  12         NaN   NaN             NaN  \n",
      "  13         NaN   NaN  Mar 20th, 2009  \n",
      "  14         NaN   NaN  Mar 21st, 2009  \n",
      "  15         NaN   NaN  Mar 22nd, 2009  \n",
      "  16         NaN   NaN             NaN  \n",
      "  17         NaN   NaN             NaN  \n",
      "  18         NaN   NaN             NaN  \n",
      "  19      6/2008   NaN             NaN  \n",
      "  20     12/2009   NaN             NaN  \n",
      "  21         NaN  2009             NaN  \n",
      "  22         NaN  2010             NaN  \n"
     ]
    }
   ],
   "source": [
    "df1 = pd.Series(r'04/20/2009; 04/20/09; 4/20/09; 4/3/09; Mar-20-2009; Mar 20, 2009; '\n",
    "                r'March 20, 2009; Mar. 20, 2009; Mar 20 2009; 20 Mar 2009; 20 March 2009; '\n",
    "                r'20 Mar. 2009; 20 March, 2009; Mar 20th, 2009; Mar 21st, 2009; Mar 22nd, 2009'\n",
    "                r'Feb 2009; Sep 2009; Oct 2010; 6/2008; 12/2009; 2009; 2010')\n",
    "regex_1 = '(\\d{1,2}[/-]\\d{1,2}[/-]\\d{2,4})'\n",
    "regex_2 = '((?:Jan|Feb|Mar|Apr|May|Jun|Jul|Aug|Sep|Oct|Nov|Dec)[\\S]*[+\\s]\\d{1,2}[,]{0,1}[+\\s]\\d{4})'\n",
    "regex_3 = '(\\d{1,2}[+\\s](?:Jan|Feb|Mar|Apr|May|Jun|Jul|Aug|Sep|Oct|Nov|Dec)[\\S]*[+\\s]\\d{4})'\n",
    "regex_4 = '((?:Jan|Feb|Mar|Apr|May|Jun|Jul|Aug|Sep|Oct|Nov|Dec)[\\S]*[+\\s]\\d{4})'\n",
    "regex_5 = '(\\d{1,2}[/-][1|2]\\d{3})'\n",
    "regex_6 = '([1|2]\\d{3})'\n",
    "regex_7 = '((?:Jan|Feb|Mar|Apr|May|Jun|Jul|Aug|Sep|Oct|Nov|Dec)[+\\s]*[\\S]*[+\\s]\\d{4})'\n",
    "full_regex = '(%s|%s|%s|%s|%s|%s|%s)' %(regex_1, regex_2, regex_3, regex_4, regex_5, regex_6, regex_7)\n",
    "# full_regex\n",
    "parsed_date = df1.str.extractall(full_regex)\n",
    "print(parsed_date.head(140))"
   ]
  },
  {
   "cell_type": "code",
   "execution_count": null,
   "metadata": {
    "collapsed": true
   },
   "outputs": [],
   "source": []
  }
 ],
 "metadata": {
  "coursera": {
   "course_slug": "python-text-mining",
   "graded_item_id": "LvcWI",
   "launcher_item_id": "krne9",
   "part_id": "Mkp1I"
  },
  "kernelspec": {
   "display_name": "Python 3",
   "language": "python",
   "name": "python3"
  },
  "language_info": {
   "codemirror_mode": {
    "name": "ipython",
    "version": 3
   },
   "file_extension": ".py",
   "mimetype": "text/x-python",
   "name": "python",
   "nbconvert_exporter": "python",
   "pygments_lexer": "ipython3",
   "version": "3.6.2"
  }
 },
 "nbformat": 4,
 "nbformat_minor": 2
}
