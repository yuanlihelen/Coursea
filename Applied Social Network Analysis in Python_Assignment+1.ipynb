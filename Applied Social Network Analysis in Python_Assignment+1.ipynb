{
 "cells": [
  {
   "cell_type": "markdown",
   "metadata": {},
   "source": [
    "---\n",
    "\n",
    "_You are currently looking at **version 1.1** of this notebook. To download notebooks and datafiles, as well as get help on Jupyter notebooks in the Coursera platform, visit the [Jupyter Notebook FAQ](https://www.coursera.org/learn/python-social-network-analysis/resources/yPcBs) course resource._\n",
    "\n",
    "---"
   ]
  },
  {
   "cell_type": "markdown",
   "metadata": {},
   "source": [
    "# Assignment 1 - Creating and Manipulating Graphs\n",
    "\n",
    "Eight employees at a small company were asked to choose 3 movies that they would most enjoy watching for the upcoming company movie night. These choices are stored in the file `Employee_Movie_Choices.txt`.\n",
    "\n",
    "A second file, `Employee_Relationships.txt`, has data on the relationships between different coworkers. \n",
    "\n",
    "The relationship score has value of `-100` (Enemies) to `+100` (Best Friends). A value of zero means the two employees haven't interacted or are indifferent.\n",
    "\n",
    "Both files are tab delimited."
   ]
  },
  {
   "cell_type": "code",
   "execution_count": 1,
   "metadata": {
    "collapsed": true
   },
   "outputs": [],
   "source": [
    "import networkx as nx\n",
    "import pandas as pd\n",
    "import numpy as np\n",
    "from networkx.algorithms import bipartite\n",
    "\n",
    "\n",
    "# This is the set of employees\n",
    "employees = set(['Pablo',\n",
    "                 'Lee',\n",
    "                 'Georgia',\n",
    "                 'Vincent',\n",
    "                 'Andy',\n",
    "                 'Frida',\n",
    "                 'Joan',\n",
    "                 'Claude'])\n",
    "\n",
    "# This is the set of movies\n",
    "movies = set(['The Shawshank Redemption',\n",
    "              'Forrest Gump',\n",
    "              'The Matrix',\n",
    "              'Anaconda',\n",
    "              'The Social Network',\n",
    "              'The Godfather',\n",
    "              'Monty Python and the Holy Grail',\n",
    "              'Snakes on a Plane',\n",
    "              'Kung Fu Panda',\n",
    "              'The Dark Knight',\n",
    "              'Mean Girls'])\n",
    "\n",
    "\n",
    "# you can use the following function to plot graphs\n",
    "# make sure to comment it out before submitting to the autograder\n",
    "def plot_graph(G, weight_name=None):\n",
    "    '''\n",
    "    G: a networkx G\n",
    "    weight_name: name of the attribute for plotting edge weights (if G is weighted)\n",
    "    '''\n",
    "    %matplotlib notebook\n",
    "    import matplotlib.pyplot as plt\n",
    "    \n",
    "    plt.figure()\n",
    "    pos = nx.spring_layout(G)\n",
    "    edges = G.edges()\n",
    "    weights = None\n",
    "    \n",
    "    if weight_name:\n",
    "        weights = [int(G[u][v][weight_name]) for u,v in edges]\n",
    "        labels = nx.get_edge_attributes(G,weight_name)\n",
    "        nx.draw_networkx_edge_labels(G,pos,edge_labels=labels)\n",
    "        nx.draw_networkx(G, pos, edges=edges, width=weights);\n",
    "    else:\n",
    "        nx.draw_networkx(G, pos, edges=edges);"
   ]
  },
  {
   "cell_type": "markdown",
   "metadata": {},
   "source": [
    "### Question 1\n",
    "\n",
    "Using NetworkX, load in the bipartite graph from `Employee_Movie_Choices.txt` and return that graph.\n",
    "\n",
    "*This function should return a networkx graph with 19 nodes and 24 edges*"
   ]
  },
  {
   "cell_type": "code",
   "execution_count": 69,
   "metadata": {},
   "outputs": [
    {
     "name": "stdout",
     "output_type": "stream",
     "text": [
      "#Employee\tMovie\r\n",
      "Andy\tAnaconda\r\n",
      "Andy\tMean Girls\r\n",
      "Andy\tThe Matrix\r\n",
      "Claude\tAnaconda\r\n",
      "Claude\tMonty Python and the Holy Grail\r\n",
      "Claude\tSnakes on a Plane\r\n",
      "Frida\tThe Matrix\r\n",
      "Frida\tThe Shawshank Redemption\r\n",
      "Frida\tThe Social Network\r\n",
      "Georgia\tAnaconda\r\n",
      "Georgia\tMonty Python and the Holy Grail\r\n",
      "Georgia\tSnakes on a Plane\r\n",
      "Joan\tForrest Gump\r\n",
      "Joan\tKung Fu Panda\r\n",
      "Joan\tMean Girls\r\n",
      "Lee\tForrest Gump\r\n",
      "Lee\tKung Fu Panda\r\n",
      "Lee\tMean Girls\r\n",
      "Pablo\tThe Dark Knight\r\n",
      "Pablo\tThe Matrix\r\n",
      "Pablo\tThe Shawshank Redemption\r\n",
      "Vincent\tThe Godfather\r\n",
      "Vincent\tThe Shawshank Redemption\r\n",
      "Vincent\tThe Social Network\r\n"
     ]
    }
   ],
   "source": [
    "!cat Employee_Movie_Choices.txt"
   ]
  },
  {
   "cell_type": "code",
   "execution_count": 82,
   "metadata": {},
   "outputs": [
    {
     "data": {
      "text/plain": [
       "(19,\n",
       " 24,\n",
       " [('Andy', 'Anaconda'),\n",
       "  ('Andy', 'Mean Girls'),\n",
       "  ('Andy', 'The Matrix'),\n",
       "  ('Anaconda', 'Claude'),\n",
       "  ('Anaconda', 'Georgia'),\n",
       "  ('Mean Girls', 'Joan'),\n",
       "  ('Mean Girls', 'Lee'),\n",
       "  ('The Matrix', 'Frida'),\n",
       "  ('The Matrix', 'Pablo'),\n",
       "  ('Claude', 'Monty Python and the Holy Grail'),\n",
       "  ('Claude', 'Snakes on a Plane'),\n",
       "  ('Monty Python and the Holy Grail', 'Georgia'),\n",
       "  ('Snakes on a Plane', 'Georgia'),\n",
       "  ('Frida', 'The Shawshank Redemption'),\n",
       "  ('Frida', 'The Social Network'),\n",
       "  ('The Shawshank Redemption', 'Pablo'),\n",
       "  ('The Shawshank Redemption', 'Vincent'),\n",
       "  ('The Social Network', 'Vincent'),\n",
       "  ('Joan', 'Forrest Gump'),\n",
       "  ('Joan', 'Kung Fu Panda'),\n",
       "  ('Forrest Gump', 'Lee'),\n",
       "  ('Kung Fu Panda', 'Lee'),\n",
       "  ('Pablo', 'The Dark Knight'),\n",
       "  ('Vincent', 'The Godfather')])"
      ]
     },
     "execution_count": 82,
     "metadata": {},
     "output_type": "execute_result"
    }
   ],
   "source": [
    "def answer_one():\n",
    "        \n",
    "#     %matplotlib notebook\n",
    "    G = nx.read_adjlist('Employee_Movie_Choices.txt', delimiter='\\t')\n",
    "    return G\n",
    "answer_one().number_of_nodes(),answer_one().number_of_edges(), answer_one().edges()"
   ]
  },
  {
   "cell_type": "markdown",
   "metadata": {},
   "source": [
    "### Question 2\n",
    "\n",
    "Using the graph from the previous question, add nodes attributes named `'type'` where movies have the value `'movie'` and employees have the value `'employee'` and return that graph.\n",
    "\n",
    "*This function should return a networkx graph with node attributes `{'type': 'movie'}` or `{'type': 'employee'}`*"
   ]
  },
  {
   "cell_type": "code",
   "execution_count": 81,
   "metadata": {
    "scrolled": true
   },
   "outputs": [
    {
     "data": {
      "text/plain": [
       "[('Andy', {'type': 'employee'}),\n",
       " ('Anaconda', {'type': 'movie'}),\n",
       " ('Mean Girls', {'type': 'movie'}),\n",
       " ('The Matrix', {'type': 'movie'}),\n",
       " ('Claude', {'type': 'movie'}),\n",
       " ('Monty Python and the Holy Grail', {'type': 'movie'}),\n",
       " ('Snakes on a Plane', {'type': 'movie'}),\n",
       " ('Frida', {'type': 'movie'}),\n",
       " ('The Shawshank Redemption', {'type': 'movie'}),\n",
       " ('The Social Network', {'type': 'movie'}),\n",
       " ('Georgia', {'type': 'movie'}),\n",
       " ('Joan', {'type': 'movie'}),\n",
       " ('Forrest Gump', {'type': 'movie'}),\n",
       " ('Kung Fu Panda', {'type': 'movie'}),\n",
       " ('Lee', {'type': 'movie'}),\n",
       " ('Pablo', {'type': 'movie'}),\n",
       " ('The Dark Knight', {'type': 'movie'}),\n",
       " ('Vincent', {'type': 'movie'}),\n",
       " ('The Godfather', {'type': 'movie'})]"
      ]
     },
     "execution_count": 81,
     "metadata": {},
     "output_type": "execute_result"
    }
   ],
   "source": [
    "def answer_two():\n",
    "    \n",
    "    G = nx.read_adjlist('Employee_Movie_Choices.txt', delimiter='\\t')\n",
    "    [a,b] = map(list,zip(*G.edges()))\n",
    "    for i in a:\n",
    "        G.add_node(i, type = 'employee')\n",
    "    for i in b:\n",
    "        G.add_node(i, type = 'movie')\n",
    "    G.nodes(data=True)\n",
    "    \n",
    "    return G\n",
    "answer_two().nodes(data = True)"
   ]
  },
  {
   "cell_type": "markdown",
   "metadata": {
    "collapsed": true
   },
   "source": [
    "### Question 3\n",
    "\n",
    "Find a weighted projection of the graph from `answer_two` which tells us how many movies different pairs of employees have in common.\n",
    "\n",
    "*This function should return a weighted projected graph.*"
   ]
  },
  {
   "cell_type": "code",
   "execution_count": 89,
   "metadata": {},
   "outputs": [
    {
     "data": {
      "text/plain": [
       "[('Claude', 'Andy', {'weight': 1}),\n",
       " ('Claude', 'Georgia', {'weight': 3}),\n",
       " ('Pablo', 'Andy', {'weight': 1}),\n",
       " ('Pablo', 'Frida', {'weight': 2}),\n",
       " ('Pablo', 'Vincent', {'weight': 1}),\n",
       " ('Andy', 'Joan', {'weight': 1}),\n",
       " ('Andy', 'Lee', {'weight': 1}),\n",
       " ('Andy', 'Georgia', {'weight': 1}),\n",
       " ('Andy', 'Frida', {'weight': 1}),\n",
       " ('Lee', 'Joan', {'weight': 3}),\n",
       " ('Frida', 'Vincent', {'weight': 2})]"
      ]
     },
     "execution_count": 89,
     "metadata": {},
     "output_type": "execute_result"
    }
   ],
   "source": [
    "def answer_three():\n",
    "        \n",
    "    G = answer_two()\n",
    "    P = bipartite.weighted_projected_graph(G, employees)\n",
    "    \n",
    "    return P\n",
    "P.edges(data = True)"
   ]
  },
  {
   "cell_type": "markdown",
   "metadata": {
    "collapsed": true
   },
   "source": [
    "### Question 4\n",
    "\n",
    "Suppose you'd like to find out if people that have a high relationship score also like the same types of movies.\n",
    "\n",
    "Find the Pearson correlation ( using `DataFrame.corr()` ) between employee relationship scores and the number of movies they have in common. If two employees have no movies in common it should be treated as a 0, not a missing value, and should be included in the correlation calculation.\n",
    "\n",
    "*This function should return a float.*"
   ]
  },
  {
   "cell_type": "code",
   "execution_count": 100,
   "metadata": {},
   "outputs": [
    {
     "data": {
      "text/plain": [
       "(0.78839622217334737,        Emp1     Emp2  Relationship  movies_in_common\n",
       " 0      Andy   Claude             0               1.0\n",
       " 1      Andy    Frida            20               1.0\n",
       " 2      Andy  Georgia           -10               1.0\n",
       " 3      Andy     Joan            30               1.0\n",
       " 4      Andy      Lee           -10               1.0\n",
       " 5      Andy    Pablo           -10               1.0\n",
       " 6      Andy  Vincent            20               0.0\n",
       " 7    Claude    Frida             0               0.0\n",
       " 8    Claude  Georgia            90               3.0\n",
       " 9    Claude     Joan             0               0.0\n",
       " 10   Claude      Lee             0               0.0\n",
       " 11   Claude    Pablo            10               0.0\n",
       " 12   Claude  Vincent             0               0.0\n",
       " 13    Frida  Georgia             0               0.0\n",
       " 14    Frida     Joan             0               0.0\n",
       " 15    Frida      Lee             0               0.0\n",
       " 16    Frida    Pablo            50               2.0\n",
       " 17    Frida  Vincent            60               2.0\n",
       " 18  Georgia     Joan             0               0.0\n",
       " 19  Georgia      Lee            10               0.0\n",
       " 20  Georgia    Pablo             0               0.0\n",
       " 21  Georgia  Vincent             0               0.0\n",
       " 22     Joan      Lee            70               3.0\n",
       " 23     Joan    Pablo             0               0.0\n",
       " 24     Joan  Vincent            10               0.0\n",
       " 25      Lee    Pablo             0               0.0\n",
       " 26      Lee  Vincent             0               0.0\n",
       " 27    Pablo  Vincent           -20               1.0)"
      ]
     },
     "execution_count": 100,
     "metadata": {},
     "output_type": "execute_result"
    }
   ],
   "source": [
    "def answer_four():\n",
    "\n",
    "    G4 = pd.DataFrame(answer_three().edges(data=True), columns=['Emp1', 'Emp2', 'movies_in_common'])\n",
    "    G4['movies_in_common'] = G4['movies_in_common'].map(lambda x: x['weight'])\n",
    "    G4_duplicate = G4.copy()\n",
    "    G4_duplicate.rename(columns={'Emp1': 'Emp2', 'Emp2': 'Emp1'}, inplace=True)\n",
    "    G4_common_movies = pd.concat([G4, G4_duplicate], ignore_index=True)\n",
    "    \n",
    "    G4_employee_rel = pd.read_csv('Employee_Relationships.txt', sep='\\t', \n",
    "                   header=None, names=['Emp1', 'Emp2', 'Relationship'])\n",
    "    \n",
    "    G4_merged = pd.merge(G4_employee_rel, G4_common_movies, how='left')\n",
    "    G4_merged['movies_in_common'].fillna(value=0, inplace=True)\n",
    "    correlation_score = G4_merged['movies_in_common'].corr(G4_merged['Relationship'])\n",
    "    \n",
    "    return correlation_score,G4_merged\n",
    "answer_four()"
   ]
  },
  {
   "cell_type": "code",
   "execution_count": 90,
   "metadata": {},
   "outputs": [
    {
     "name": "stdout",
     "output_type": "stream",
     "text": [
      "Andy\tClaude\t0\r\n",
      "Andy\tFrida\t20\r\n",
      "Andy\tGeorgia\t-10\r\n",
      "Andy\tJoan\t30\r\n",
      "Andy\tLee\t-10\r\n",
      "Andy\tPablo\t-10\r\n",
      "Andy\tVincent\t20\r\n",
      "Claude\tFrida\t0\r\n",
      "Claude\tGeorgia\t90\r\n",
      "Claude\tJoan\t0\r\n",
      "Claude\tLee\t0\r\n",
      "Claude\tPablo\t10\r\n",
      "Claude\tVincent\t0\r\n",
      "Frida\tGeorgia\t0\r\n",
      "Frida\tJoan\t0\r\n",
      "Frida\tLee\t0\r\n",
      "Frida\tPablo\t50\r\n",
      "Frida\tVincent\t60\r\n",
      "Georgia\tJoan\t0\r\n",
      "Georgia\tLee\t10\r\n",
      "Georgia\tPablo\t0\r\n",
      "Georgia\tVincent\t0\r\n",
      "Joan\tLee\t70\r\n",
      "Joan\tPablo\t0\r\n",
      "Joan\tVincent\t10\r\n",
      "Lee\tPablo\t0\r\n",
      "Lee\tVincent\t0\r\n",
      "Pablo\tVincent\t-20\r\n"
     ]
    }
   ],
   "source": [
    "!cat Employee_Relationships.txt"
   ]
  },
  {
   "cell_type": "code",
   "execution_count": null,
   "metadata": {
    "collapsed": true
   },
   "outputs": [],
   "source": []
  }
 ],
 "metadata": {
  "coursera": {
   "course_slug": "python-social-network-analysis",
   "graded_item_id": "YNa9b",
   "launcher_item_id": "hvNc1",
   "part_id": "VbyiB"
  },
  "kernelspec": {
   "display_name": "Python 3",
   "language": "python",
   "name": "python3"
  },
  "language_info": {
   "codemirror_mode": {
    "name": "ipython",
    "version": 3
   },
   "file_extension": ".py",
   "mimetype": "text/x-python",
   "name": "python",
   "nbconvert_exporter": "python",
   "pygments_lexer": "ipython3",
   "version": "3.6.2"
  }
 },
 "nbformat": 4,
 "nbformat_minor": 2
}
